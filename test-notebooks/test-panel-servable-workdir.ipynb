{
 "cells": [
  {
   "cell_type": "code",
   "execution_count": null,
   "id": "d79b1053-3144-47d4-824f-49a3666d68e6",
   "metadata": {},
   "outputs": [],
   "source": [
    "import os\n",
    "from pathlib import Path\n",
    "import panel as pn\n",
    "\n",
    "pn.panel(f\"# Default workdir {Path.cwd()}\").servable();\n",
    "\n",
    "os.chdir(Path(__file__).parent)\n",
    "\n",
    "pn.panel(f\"# Manual chdir for relative path to work {Path.cwd()}\").servable();"
   ]
  },
  {
   "cell_type": "markdown",
   "id": "cd069cde-27e3-4458-a987-7f1681da429f",
   "metadata": {},
   "source": []
  },
  {
   "cell_type": "code",
   "execution_count": null,
   "id": "c866308b-4836-457a-a676-333f7c6c89a9",
   "metadata": {},
   "outputs": [],
   "source": []
  }
 ],
 "metadata": {
  "kernelspec": {
   "display_name": "Python 3 (ipykernel)",
   "language": "python",
   "name": "python3"
  },
  "language_info": {
   "codemirror_mode": {
    "name": "ipython",
    "version": 3
   },
   "file_extension": ".py",
   "mimetype": "text/x-python",
   "name": "python",
   "nbconvert_exporter": "python",
   "pygments_lexer": "ipython3",
   "version": "3.8.13"
  }
 },
 "nbformat": 4,
 "nbformat_minor": 5
}
